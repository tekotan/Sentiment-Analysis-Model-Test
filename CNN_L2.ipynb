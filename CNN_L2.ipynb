{
 "cells": [
  {
   "cell_type": "code",
   "execution_count": 1,
   "metadata": {},
   "outputs": [],
   "source": [
    "import numpy as np\n",
    "import re\n",
    "from random import randint\n",
    "\n",
    "#Importing Data\n",
    "wordsList = np.load('Numpy Arrays/wordsList.npy')\n",
    "wordsList = wordsList.tolist()\n",
    "wordsList = [word.decode('UTF-8') for word in wordsList]\n",
    "wordVectors = np.load('Numpy Arrays/wordVectors.npy')\n",
    "#text = np.load('Numpy Arrays/text.npy')\n",
    "the_labels = np.load('Numpy Arrays/labels.npy')\n",
    "strip_special_chars = re.compile(\"[^A-Za-z0-9 ]+\")\n",
    "\n",
    "#Helper Functions\n",
    "def cleanSentences(string):\n",
    "    string = string.lower().replace(\"<br />\", \" \")\n",
    "    return re.sub(strip_special_chars, \"\", string.lower())\n",
    "ids = np.load('Numpy Arrays/idsMatrix.npy')\n",
    "def getTrainBatch():\n",
    "    label = []\n",
    "    arr = np.zeros([batchSize, maxSeqLength])\n",
    "    for i in range(batchSize):\n",
    "        num = randint(1, 1000000)\n",
    "        arr[i] = ids[num]\n",
    "        label.append(the_labels[num])\n",
    "    return arr, label\n",
    "def getTestBatch():\n",
    "    label = []\n",
    "    arr = np.zeros([batchSize, maxSeqLength])\n",
    "    for i in range(batchSize):\n",
    "        num = randint(1000001, the_labels.shape[0]-1)\n",
    "        arr[i] = ids[num]\n",
    "        label.append(the_labels[num])\n",
    "    return arr, label"
   ]
  },
  {
   "cell_type": "code",
   "execution_count": 2,
   "metadata": {},
   "outputs": [],
   "source": [
    "batchSize = 512\n",
    "numClasses = 2\n",
    "iterations = 10000\n",
    "learning_rate = 0.0001\n",
    "maxSeqLength = 20"
   ]
  },
  {
   "cell_type": "code",
   "execution_count": 3,
   "metadata": {},
   "outputs": [],
   "source": [
    "import tensorflow as tf\n",
    "with tf.name_scope(\"Input_Data\") as scope:\n",
    "    labels = tf.placeholder(tf.float32, [batchSize, numClasses], name='Sentiment_Labels')\n",
    "    input_data = tf.placeholder(tf.int32, [batchSize, maxSeqLength], name='Text')"
   ]
  },
  {
   "cell_type": "code",
   "execution_count": 4,
   "metadata": {},
   "outputs": [],
   "source": [
    "with tf.name_scope(\"Data_Preprocessing\") as scope:\n",
    "    data = tf.Variable(tf.zeros([batchSize, maxSeqLength, 3]),dtype=tf.float32, name='Embed_Text')\n",
    "    data = tf.nn.embedding_lookup(wordVectors,input_data)"
   ]
  },
  {
   "cell_type": "code",
   "execution_count": 5,
   "metadata": {},
   "outputs": [],
   "source": [
    "data = tf.reshape(data, [batchSize, maxSeqLength, 50, 1])"
   ]
  },
  {
   "cell_type": "code",
   "execution_count": 6,
   "metadata": {},
   "outputs": [],
   "source": [
    "with tf.name_scope(\"Convolution1\") as scope:\n",
    "    kernel = tf.get_variable(name=\"weights\",shape=[5, 5, 1, 10], dtype=tf.float32, initializer=tf.contrib.layers.xavier_initializer())\n",
    "    conv = tf.nn.conv2d(data, kernel, padding=\"SAME\", strides=[1,1,1,1])\n",
    "    sig = tf.nn.relu(conv)\n",
    "    sig = tf.nn.dropout(sig, keep_prob=0.9)\n",
    "    max_pool = tf.nn.max_pool(sig, strides=[1,2,2,1], padding=\"VALID\", ksize=[1,3,3,1])"
   ]
  },
  {
   "cell_type": "code",
   "execution_count": 7,
   "metadata": {},
   "outputs": [],
   "source": [
    "with tf.name_scope(\"Convolution2\") as scope:\n",
    "    kernel = tf.get_variable(name=\"weights_2\",shape=[5, 5, 10, 10], dtype=tf.float32, initializer=tf.contrib.layers.xavier_initializer())\n",
    "    conv = tf.nn.conv2d(max_pool, kernel, padding=\"SAME\", strides=[1,1,1,1])\n",
    "    sig = tf.nn.relu(conv)\n",
    "    sig = tf.nn.dropout(sig, keep_prob=0.9)\n",
    "\n",
    "    max_pool = tf.nn.max_pool(sig, strides=[1,2,2,1], padding=\"VALID\", ksize=[1,3,3,1])"
   ]
  },
  {
   "cell_type": "code",
   "execution_count": 8,
   "metadata": {},
   "outputs": [],
   "source": [
    "max_pool = tf.reshape(max_pool, [batchSize, 4*11*10])"
   ]
  },
  {
   "cell_type": "code",
   "execution_count": 9,
   "metadata": {},
   "outputs": [],
   "source": [
    "with tf.name_scope(\"Prediction_Parameters\") as scope:\n",
    "    weight = tf.Variable(tf.truncated_normal([440, numClasses]), name='Weights')\n",
    "    bias = tf.Variable(tf.constant(0.1, shape=[numClasses]), name='bias')\n",
    "with tf.name_scope(\"Prediction\") as scope:\n",
    "    prediction = tf.nn.softmax(tf.matmul(max_pool, weight) + bias)"
   ]
  },
  {
   "cell_type": "code",
   "execution_count": 10,
   "metadata": {},
   "outputs": [],
   "source": [
    "with tf.name_scope(\"Accuracy\") as scope:\n",
    "    correctPred = tf.equal(tf.argmax(tf.argmax(prediction,1), axis=-1), tf.argmax(labels,1))\n",
    "    accuracy = tf.reduce_mean(tf.cast(correctPred, tf.float32))"
   ]
  },
  {
   "cell_type": "code",
   "execution_count": 11,
   "metadata": {},
   "outputs": [],
   "source": [
    "with tf.name_scope(\"Loss\") as scope:\n",
    "    loss = tf.reduce_mean(tf.nn.softmax_cross_entropy_with_logits_v2(logits=prediction, labels=labels))\n",
    "with tf.name_scope(\"Train\") as scope:\n",
    "    optimizer = tf.train.AdamOptimizer(learning_rate).minimize(loss)"
   ]
  },
  {
   "cell_type": "markdown",
   "metadata": {},
   "source": [
    "import datetime\n",
    "tf.summary.scalar('Loss', loss)\n",
    "tf.summary.scalar('Accuracy', accuracy)\n",
    "merged = tf.summary.merge_all()\n",
    "validation = tf.summary.scalar('Validation', accuracy)\n",
    "logdir = \"tensorboard/\" + datetime.datetime.now().strftime(\"%Y%m%d-%H%M%S\") + \"/\"\n",
    "writer = tf.summary.FileWriter(logdir, sess.graph)"
   ]
  },
  {
   "cell_type": "code",
   "execution_count": 12,
   "metadata": {
    "scrolled": true
   },
   "outputs": [],
   "source": [
    "sess = tf.InteractiveSession()\n",
    "saver = tf.train.Saver()\n",
    "sess.run(tf.global_variables_initializer())\n"
   ]
  },
  {
   "cell_type": "code",
   "execution_count": 13,
   "metadata": {},
   "outputs": [
    {
     "name": "stdout",
     "output_type": "stream",
     "text": [
      "Loss: 0.82326114\n",
      "Loss: 0.69630337\n",
      "Loss: 0.65460193\n",
      "Loss: 0.6741843\n",
      "Loss: 0.6424663\n",
      "Loss: 0.6397988\n",
      "Loss: 0.63021135\n",
      "Loss: 0.63932073\n",
      "Loss: 0.6348468\n",
      "Loss: 0.62200725\n",
      "Loss: 0.64260054\n",
      "Loss: 0.64552003\n",
      "Loss: 0.6430118\n",
      "Loss: 0.6490983\n",
      "Loss: 0.6404112\n",
      "Loss: 0.6228039\n",
      "Loss: 0.60368955\n",
      "Loss: 0.6169435\n",
      "Loss: 0.61032\n",
      "Loss: 0.61017287\n",
      "Loss: 0.6096728\n"
     ]
    },
    {
     "ename": "NameError",
     "evalue": "name 'writer' is not defined",
     "output_type": "error",
     "traceback": [
      "\u001b[1;31m---------------------------------------------------------------------------\u001b[0m",
      "\u001b[1;31mNameError\u001b[0m                                 Traceback (most recent call last)",
      "\u001b[1;32m<ipython-input-13-47e2e366f37e>\u001b[0m in \u001b[0;36m<module>\u001b[1;34m()\u001b[0m\n\u001b[0;32m     13\u001b[0m         \u001b[0mprint\u001b[0m\u001b[1;33m(\u001b[0m\u001b[1;34m\"Loss: \"\u001b[0m \u001b[1;33m+\u001b[0m \u001b[0mstr\u001b[0m\u001b[1;33m(\u001b[0m\u001b[0msess\u001b[0m\u001b[1;33m.\u001b[0m\u001b[0mrun\u001b[0m\u001b[1;33m(\u001b[0m\u001b[0mloss\u001b[0m\u001b[1;33m,\u001b[0m \u001b[1;33m{\u001b[0m\u001b[0minput_data\u001b[0m\u001b[1;33m:\u001b[0m \u001b[0mnextBatch\u001b[0m\u001b[1;33m,\u001b[0m \u001b[0mlabels\u001b[0m\u001b[1;33m:\u001b[0m \u001b[0mnextBatchLabels\u001b[0m\u001b[1;33m}\u001b[0m\u001b[1;33m)\u001b[0m\u001b[1;33m)\u001b[0m\u001b[1;33m)\u001b[0m\u001b[1;33m\u001b[0m\u001b[0m\n\u001b[0;32m     14\u001b[0m \u001b[0msave_path\u001b[0m \u001b[1;33m=\u001b[0m \u001b[0msaver\u001b[0m\u001b[1;33m.\u001b[0m\u001b[0msave\u001b[0m\u001b[1;33m(\u001b[0m\u001b[0msess\u001b[0m\u001b[1;33m,\u001b[0m \u001b[1;34m\"CNN2/convolution.ckpt\"\u001b[0m\u001b[1;33m,\u001b[0m \u001b[0mglobal_step\u001b[0m\u001b[1;33m=\u001b[0m\u001b[0mi\u001b[0m\u001b[1;33m)\u001b[0m\u001b[1;33m\u001b[0m\u001b[0m\n\u001b[1;32m---> 15\u001b[1;33m \u001b[0mwriter\u001b[0m\u001b[1;33m.\u001b[0m\u001b[0mclose\u001b[0m\u001b[1;33m(\u001b[0m\u001b[1;33m)\u001b[0m\u001b[1;33m\u001b[0m\u001b[0m\n\u001b[0m",
      "\u001b[1;31mNameError\u001b[0m: name 'writer' is not defined"
     ]
    }
   ],
   "source": [
    "for i in range(iterations+1):\n",
    "        #Next Batch of reviews\n",
    "    nextBatch, nextBatchLabels = getTrainBatch();\n",
    "    sess.run(optimizer, {input_data: nextBatch, labels: nextBatchLabels})\n",
    "    #Write summary to Tensorboard\n",
    "#    if (i % 5 == 0):\n",
    "#        summary = sess.run(merged, {input_data: nextBatch, labels: nextBatchLabels})\n",
    "#        writer.add_summary(summary, i)\n",
    "#        nextTestBatch, nextTestBatchLabels = getTestBatch();\n",
    "#        val = sess.run(validation, {input_data: nextTestBatch, labels: nextTestBatchLabels})\n",
    "#        writer.add_summary(val, i)\n",
    "    if (i%500 == 0):\n",
    "        print(\"Loss: \" + str(sess.run(loss, {input_data: nextBatch, labels: nextBatchLabels})))\n",
    "save_path = saver.save(sess, \"CNN2/convolution.ckpt\", global_step=i)\n",
    "writer.close()"
   ]
  },
  {
   "cell_type": "code",
   "execution_count": 14,
   "metadata": {},
   "outputs": [],
   "source": [
    "import re\n",
    "strip_special_chars = re.compile(\"[^A-Za-z0-9 ]+\")\n",
    "\n",
    "def cleanSentences(string):\n",
    "    string = string.lower().replace(\"<br />\", \" \")\n",
    "    return re.sub(strip_special_chars, \"\", string.lower())\n",
    "\n",
    "def getSentenceMatrix(sentence):\n",
    "    arr = np.zeros([batchSize, maxSeqLength])\n",
    "    sentenceMatrix = np.zeros([batchSize,maxSeqLength], dtype='int32')\n",
    "    cleanedSentence = cleanSentences(sentence)\n",
    "    split = cleanedSentence.split()\n",
    "    for indexCounter,word in enumerate(split):\n",
    "        try:\n",
    "            sentenceMatrix[0,indexCounter] = wordsList.index(word)\n",
    "        except ValueError:\n",
    "            sentenceMatrix[0,indexCounter] = 399999 #Vector for unkown words\n",
    "    return sentenceMatrix\n",
    "def test(sent):\n",
    "    x = ['negetive', 'positive']\n",
    "    sent = getSentenceMatrix(sent)\n",
    "    pred = sess.run(prediction, {input_data:sent})[0]\n",
    "    return(pred)\n",
    "def results():\n",
    "    arr = np.array([[1, 0]], dtype=np.float32)\n",
    "    arr_pred = np.array([test(\"my life sucks\")])\n",
    "    for i in range(512, ids.shape[0], 512):\n",
    "        arr = np.vstack((arr, the_labels[i-512:i]))\n",
    "        arr_pred = np.vstack((arr_pred, sess.run(prediction, {input_data:ids[i-512:i]})))\n",
    "    x = np.argmax(arr_pred, axis=1)\n",
    "    y = np.argmax(arr, axis=1)\n",
    "    return((np.sum(np.equal(x, y))/x.shape))"
   ]
  },
  {
   "cell_type": "code",
   "execution_count": 15,
   "metadata": {},
   "outputs": [
    {
     "data": {
      "text/plain": [
       "array([0.66145834])"
      ]
     },
     "execution_count": 15,
     "metadata": {},
     "output_type": "execute_result"
    }
   ],
   "source": [
    "results()"
   ]
  },
  {
   "cell_type": "code",
   "execution_count": null,
   "metadata": {},
   "outputs": [],
   "source": []
  }
 ],
 "metadata": {
  "anaconda-cloud": {},
  "kernelspec": {
   "display_name": "Python 3",
   "language": "python",
   "name": "python3"
  },
  "language_info": {
   "codemirror_mode": {
    "name": "ipython",
    "version": 3
   },
   "file_extension": ".py",
   "mimetype": "text/x-python",
   "name": "python",
   "nbconvert_exporter": "python",
   "pygments_lexer": "ipython3",
   "version": "3.6.5"
  }
 },
 "nbformat": 4,
 "nbformat_minor": 1
}
