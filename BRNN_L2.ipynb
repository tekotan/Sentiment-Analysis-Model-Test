{
 "cells": [
  {
   "cell_type": "markdown",
   "metadata": {},
   "source": [
    "# Preliminary Data and Functions"
   ]
  },
  {
   "cell_type": "code",
   "execution_count": 1,
   "metadata": {},
   "outputs": [],
   "source": [
    "import numpy as np\n",
    "import re\n",
    "from random import randint\n",
    "\n",
    "#Importing Data\n",
    "wordsList = np.load('Numpy Arrays/wordsList.npy')\n",
    "wordsList = wordsList.tolist()\n",
    "wordsList = [word.decode('UTF-8') for word in wordsList]\n",
    "wordVectors = np.load('Numpy Arrays/wordVectors.npy')\n",
    "#text = np.load('Numpy Arrays/text.npy')\n",
    "the_labels = np.load('Numpy Arrays/labels.npy')\n",
    "strip_special_chars = re.compile(\"[^A-Za-z0-9 ]+\")\n",
    "\n",
    "#Helper Functions\n",
    "def cleanSentences(string):\n",
    "    string = string.lower().replace(\"<br />\", \" \")\n",
    "    return re.sub(strip_special_chars, \"\", string.lower())\n",
    "ids = np.load('Numpy Arrays/idsMatrix.npy')\n",
    "def getTrainBatch():\n",
    "    label = []\n",
    "    arr = np.zeros([batchSize, maxSeqLength])\n",
    "    for i in range(batchSize):\n",
    "        num = randint(1, 1000000)\n",
    "        arr[i] = ids[num]\n",
    "        label.append(the_labels[num])\n",
    "    return arr, label\n",
    "def getTestBatch():\n",
    "    label = []\n",
    "    arr = np.zeros([batchSize, maxSeqLength])\n",
    "    for i in range(batchSize):\n",
    "        num = randint(1000001, the_labels.shape[0]-1)\n",
    "        arr[i] = ids[num]\n",
    "        label.append(the_labels[num])\n",
    "    return arr, label"
   ]
  },
  {
   "cell_type": "markdown",
   "metadata": {},
   "source": [
    "# BRNN Model"
   ]
  },
  {
   "cell_type": "markdown",
   "metadata": {},
   "source": [
    "### Hyper Parameters"
   ]
  },
  {
   "cell_type": "code",
   "execution_count": 2,
   "metadata": {},
   "outputs": [],
   "source": [
    "batchSize = 512\n",
    "lstmUnits = 128\n",
    "numClasses = 2\n",
    "iterations = 10000\n",
    "learning_rate = 0.001\n",
    "maxSeqLength = 20"
   ]
  },
  {
   "cell_type": "code",
   "execution_count": 3,
   "metadata": {},
   "outputs": [],
   "source": [
    "import tensorflow as tf\n",
    "with tf.name_scope(\"Input_Data\") as scope:\n",
    "    labels = tf.placeholder(tf.float32, [batchSize, numClasses], name='Sentiment_Labels')\n",
    "    input_data = tf.placeholder(tf.int32, [batchSize, maxSeqLength], name='Text')\n",
    "\n",
    "with tf.name_scope(\"Data_Preprocessing\") as scope:\n",
    "    data = tf.Variable(tf.zeros([batchSize, maxSeqLength, 3]),dtype=tf.float32, name='Embed_Text')\n",
    "    data = tf.nn.embedding_lookup(wordVectors,input_data)"
   ]
  },
  {
   "cell_type": "code",
   "execution_count": 4,
   "metadata": {},
   "outputs": [],
   "source": [
    "with tf.name_scope(\"MultiBRNN\") as scope:\n",
    "    cell = tf.nn.rnn_cell.LSTMCell(lstmUnits)\n",
    "    cell = tf.nn.rnn_cell.DropoutWrapper(cell, output_keep_prob=0.9)\n",
    "    cell1 = tf.nn.rnn_cell.LSTMCell(lstmUnits)\n",
    "    cell1 = tf.nn.rnn_cell.DropoutWrapper(cell1, output_keep_prob=0.9)\n",
    "\n",
    "    (forward_output, backward_output), _ = \\\n",
    "        tf.nn.bidirectional_dynamic_rnn(cell, cell1, inputs=data, dtype=tf.float32,scope='BLSTM_1')\n",
    "    outputs = tf.concat([forward_output, backward_output], axis=2)\n",
    "\n",
    "    #Second BLSTM using the output of previous layer as an input.\n",
    "    cell2 = tf.nn.rnn_cell.LSTMCell(lstmUnits)\n",
    "    cell2 = tf.nn.rnn_cell.DropoutWrapper(cell2, output_keep_prob=0.9)\n",
    "    cell3 = tf.nn.rnn_cell.LSTMCell(lstmUnits)\n",
    "    cell3 = tf.nn.rnn_cell.DropoutWrapper(cell3, output_keep_prob=0.9)\n",
    "\n",
    "    (forward_output, backward_output), _ = \\\n",
    "        tf.nn.bidirectional_dynamic_rnn(cell2, cell3, inputs=outputs, dtype=tf.float32,scope='BLSTM_2')\n",
    "    outputs = tf.concat([forward_output, backward_output], axis=2)"
   ]
  },
  {
   "cell_type": "code",
   "execution_count": 5,
   "metadata": {},
   "outputs": [],
   "source": [
    "with tf.name_scope(\"Prediction_Parameters\") as scope:\n",
    "    weight = tf.Variable(tf.truncated_normal([2*lstmUnits, numClasses]), name='Weights')\n",
    "    bias = tf.Variable(tf.constant(0.1, shape=[numClasses]), name='bias')\n",
    "    value = tf.transpose(outputs, [1, 0, 2])\n",
    "    last = tf.gather(value, int(value.get_shape()[0]) - 1)\n",
    "with tf.name_scope(\"Prediction\") as scope:\n",
    "    prediction = tf.nn.softmax(tf.matmul(last, weight) + bias)"
   ]
  },
  {
   "cell_type": "code",
   "execution_count": 6,
   "metadata": {},
   "outputs": [],
   "source": [
    "with tf.name_scope(\"Accuracy\") as scope:\n",
    "    correctPred = tf.equal(tf.argmax(prediction,1), tf.argmax(labels,1))\n",
    "    accuracy = tf.reduce_mean(tf.cast(correctPred, tf.float32))\n"
   ]
  },
  {
   "cell_type": "code",
   "execution_count": 7,
   "metadata": {},
   "outputs": [],
   "source": [
    "with tf.name_scope(\"Loss\") as scope:\n",
    "    loss = tf.reduce_mean(tf.nn.softmax_cross_entropy_with_logits_v2(logits=prediction, labels=labels))\n",
    "with tf.name_scope(\"Train\") as scope:\n",
    "    optimizer = tf.train.AdamOptimizer(learning_rate).minimize(loss)"
   ]
  },
  {
   "cell_type": "code",
   "execution_count": null,
   "metadata": {},
   "outputs": [],
   "source": [
    "import datetime\n",
    "tf.summary.scalar('Loss', loss)\n",
    "tf.summary.scalar('Accuracy', accuracy)\n",
    "merged = tf.summary.merge_all()\n",
    "validation = tf.summary.scalar('Validation', accuracy)\n",
    "logdir = \"tensorboard/\" + datetime.datetime.now().strftime(\"%Y%m%d-%H%M%S\") + \"/\"\n",
    "writer = tf.summary.FileWriter(logdir, sess.graph)"
   ]
  },
  {
   "cell_type": "code",
   "execution_count": 8,
   "metadata": {
    "scrolled": true
   },
   "outputs": [],
   "source": [
    "sess = tf.InteractiveSession()\n",
    "saver = tf.train.Saver()\n",
    "sess.run(tf.global_variables_initializer())\n"
   ]
  },
  {
   "cell_type": "markdown",
   "metadata": {},
   "source": [
    "# Training"
   ]
  },
  {
   "cell_type": "code",
   "execution_count": 9,
   "metadata": {
    "scrolled": true
   },
   "outputs": [
    {
     "name": "stdout",
     "output_type": "stream",
     "text": [
      "Loss: 0.7279986\n",
      "Loss: 0.57561207\n",
      "Loss: 0.61590827\n",
      "Loss: 0.5531422\n",
      "Loss: 0.54807734\n",
      "Loss: 0.56958795\n",
      "Loss: 0.55133176\n",
      "Loss: 0.5434594\n",
      "Loss: 0.5497587\n",
      "Loss: 0.52215225\n",
      "Loss: 0.54473805\n",
      "Loss: 0.546203\n",
      "Loss: 0.5315193\n",
      "Loss: 0.49219894\n",
      "Loss: 0.5164892\n",
      "Loss: 0.50491595\n",
      "Loss: 0.5310552\n",
      "Loss: 0.5056318\n",
      "Loss: 0.52156454\n",
      "Loss: 0.5259479\n",
      "Loss: 0.5155761\n"
     ]
    },
    {
     "ename": "NameError",
     "evalue": "name 'writer' is not defined",
     "output_type": "error",
     "traceback": [
      "\u001b[1;31m---------------------------------------------------------------------------\u001b[0m",
      "\u001b[1;31mNameError\u001b[0m                                 Traceback (most recent call last)",
      "\u001b[1;32m<ipython-input-9-5f322310afdd>\u001b[0m in \u001b[0;36m<module>\u001b[1;34m()\u001b[0m\n\u001b[0;32m     13\u001b[0m         \u001b[0mprint\u001b[0m\u001b[1;33m(\u001b[0m\u001b[1;34m\"Loss: \"\u001b[0m \u001b[1;33m+\u001b[0m \u001b[0mstr\u001b[0m\u001b[1;33m(\u001b[0m\u001b[0msess\u001b[0m\u001b[1;33m.\u001b[0m\u001b[0mrun\u001b[0m\u001b[1;33m(\u001b[0m\u001b[0mloss\u001b[0m\u001b[1;33m,\u001b[0m \u001b[1;33m{\u001b[0m\u001b[0minput_data\u001b[0m\u001b[1;33m:\u001b[0m \u001b[0mnextBatch\u001b[0m\u001b[1;33m,\u001b[0m \u001b[0mlabels\u001b[0m\u001b[1;33m:\u001b[0m \u001b[0mnextBatchLabels\u001b[0m\u001b[1;33m}\u001b[0m\u001b[1;33m)\u001b[0m\u001b[1;33m)\u001b[0m\u001b[1;33m)\u001b[0m\u001b[1;33m\u001b[0m\u001b[0m\n\u001b[0;32m     14\u001b[0m \u001b[0msave_path\u001b[0m \u001b[1;33m=\u001b[0m \u001b[0msaver\u001b[0m\u001b[1;33m.\u001b[0m\u001b[0msave\u001b[0m\u001b[1;33m(\u001b[0m\u001b[0msess\u001b[0m\u001b[1;33m,\u001b[0m \u001b[1;34m\"BRNN2/brnn.ckpt\"\u001b[0m\u001b[1;33m,\u001b[0m \u001b[0mglobal_step\u001b[0m\u001b[1;33m=\u001b[0m\u001b[0mi\u001b[0m\u001b[1;33m)\u001b[0m\u001b[1;33m\u001b[0m\u001b[0m\n\u001b[1;32m---> 15\u001b[1;33m \u001b[0mwriter\u001b[0m\u001b[1;33m.\u001b[0m\u001b[0mclose\u001b[0m\u001b[1;33m(\u001b[0m\u001b[1;33m)\u001b[0m\u001b[1;33m\u001b[0m\u001b[0m\n\u001b[0m",
      "\u001b[1;31mNameError\u001b[0m: name 'writer' is not defined"
     ]
    }
   ],
   "source": [
    "for i in range(iterations+1):\n",
    "        #Next Batch of reviews\n",
    "    nextBatch, nextBatchLabels = getTrainBatch();\n",
    "    sess.run(optimizer, {input_data: nextBatch, labels: nextBatchLabels})\n",
    "    #Write summary to Tensorboard\n",
    "#    if (i % 5 == 0):\n",
    "#        summary = sess.run(merged, {input_data: nextBatch, labels: nextBatchLabels})\n",
    "#        writer.add_summary(summary, i)\n",
    "#        nextTestBatch, nextTestBatchLabels = getTestBatch();\n",
    "#        val = sess.run(validation, {input_data: nextTestBatch, labels: nextTestBatchLabels})\n",
    "#        writer.add_summary(val, i)\n",
    "    if (i%500 == 0):\n",
    "        print(\"Loss: \" + str(sess.run(loss, {input_data: nextBatch, labels: nextBatchLabels})))\n",
    "save_path = saver.save(sess, \"BRNN2/brnn.ckpt\", global_step=i)\n",
    "writer.close()"
   ]
  },
  {
   "cell_type": "code",
   "execution_count": 10,
   "metadata": {},
   "outputs": [],
   "source": [
    "import re\n",
    "strip_special_chars = re.compile(\"[^A-Za-z0-9 ]+\")\n",
    "\n",
    "def cleanSentences(string):\n",
    "    string = string.lower().replace(\"<br />\", \" \")\n",
    "    return re.sub(strip_special_chars, \"\", string.lower())\n",
    "\n",
    "def getSentenceMatrix(sentence):\n",
    "    arr = np.zeros([batchSize, maxSeqLength])\n",
    "    sentenceMatrix = np.zeros([batchSize,maxSeqLength], dtype='int32')\n",
    "    cleanedSentence = cleanSentences(sentence)\n",
    "    split = cleanedSentence.split()\n",
    "    for indexCounter,word in enumerate(split):\n",
    "        try:\n",
    "            sentenceMatrix[0,indexCounter] = wordsList.index(word)\n",
    "        except ValueError:\n",
    "            sentenceMatrix[0,indexCounter] = 399999 #Vector for unkown words\n",
    "    return sentenceMatrix\n",
    "def test(sent):\n",
    "    x = ['negetive', 'positive']\n",
    "    sent = getSentenceMatrix(sent)\n",
    "    pred = sess.run(prediction, {input_data:sent})[0]\n",
    "    return(pred)\n",
    "def results():\n",
    "    arr = np.array([[1, 0]], dtype=np.float32)\n",
    "    arr_pred = np.array([test(\"my life sucks\")])\n",
    "    for i in range(512, ids.shape[0], 512):\n",
    "        arr = np.vstack((arr, the_labels[i-512:i]))\n",
    "        arr_pred = np.vstack((arr_pred, sess.run(prediction, {input_data:ids[i-512:i]})))\n",
    "    x = np.argmax(arr_pred, axis=1)\n",
    "    y = np.argmax(arr, axis=1)\n",
    "    return((np.sum(np.equal(x, y))/x.shape))"
   ]
  },
  {
   "cell_type": "code",
   "execution_count": 11,
   "metadata": {},
   "outputs": [
    {
     "data": {
      "text/plain": [
       "array([0.77661345])"
      ]
     },
     "execution_count": 11,
     "metadata": {},
     "output_type": "execute_result"
    }
   ],
   "source": [
    "results()"
   ]
  },
  {
   "cell_type": "code",
   "execution_count": 12,
   "metadata": {},
   "outputs": [
    {
     "name": "stdout",
     "output_type": "stream",
     "text": [
      "0.6899475812911987\n"
     ]
    }
   ],
   "source": [
    "def find_time():\n",
    "    import time\n",
    "    cx = np.random.randint(513, ids.shape[0])\n",
    "    start_time = time.time()\n",
    "    sess.run(prediction, {input_data:ids[cx-512:cx]})\n",
    "#    print(\"---| %s seconds ---\" % (time.time() - start_time))\n",
    "    return(time.time() - start_time)\n",
    "find_time()\n",
    "def find():\n",
    "    temp = 0\n",
    "    for i in range(10):\n",
    "        temp+=find_time()\n",
    "    print(temp/10)\n",
    "find()"
   ]
  },
  {
   "cell_type": "code",
   "execution_count": null,
   "metadata": {},
   "outputs": [],
   "source": []
  }
 ],
 "metadata": {
  "anaconda-cloud": {},
  "kernelspec": {
   "display_name": "Python 3",
   "language": "python",
   "name": "python3"
  },
  "language_info": {
   "codemirror_mode": {
    "name": "ipython",
    "version": 3
   },
   "file_extension": ".py",
   "mimetype": "text/x-python",
   "name": "python",
   "nbconvert_exporter": "python",
   "pygments_lexer": "ipython3",
   "version": "3.6.5"
  }
 },
 "nbformat": 4,
 "nbformat_minor": 1
}
