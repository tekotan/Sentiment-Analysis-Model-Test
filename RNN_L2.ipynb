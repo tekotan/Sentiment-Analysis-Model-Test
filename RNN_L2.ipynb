{
 "cells": [
  {
   "cell_type": "markdown",
   "metadata": {},
   "source": [
    "# Preliminary Data and Functions"
   ]
  },
  {
   "cell_type": "markdown",
   "metadata": {},
   "source": [
    "# RNN Model"
   ]
  },
  {
   "cell_type": "markdown",
   "metadata": {},
   "source": [
    "### Hyper Parameters"
   ]
  },
  {
   "cell_type": "code",
   "execution_count": 2,
   "metadata": {},
   "outputs": [],
   "source": [
    "batchSize = 512\n",
    "lstmUnits = 128\n",
    "numClasses = 2\n",
    "iterations = 10000\n",
    "learning_rate = 0.001\n",
    "maxSeqLength = 20"
   ]
  },
  {
   "cell_type": "code",
   "execution_count": 3,
   "metadata": {},
   "outputs": [],
   "source": [
    "import tensorflow as tf\n",
    "with tf.name_scope(\"Input_Data\") as scope:\n",
    "    labels = tf.placeholder(tf.float32, [batchSize, numClasses], name='Sentiment_Labels')\n",
    "    input_data = tf.placeholder(tf.int32, [batchSize, maxSeqLength], name='Text')"
   ]
  },
  {
   "cell_type": "code",
   "execution_count": 4,
   "metadata": {},
   "outputs": [],
   "source": [
    "with tf.name_scope(\"Data_Preprocessing\") as scope:\n",
    "    data = tf.Variable(tf.zeros([batchSize, maxSeqLength, 3]),dtype=tf.float32, name='Embed_Text')\n",
    "    data = tf.nn.embedding_lookup(wordVectors,input_data)"
   ]
  },
  {
   "cell_type": "code",
   "execution_count": 5,
   "metadata": {},
   "outputs": [],
   "source": [
    "with tf.name_scope(\"MultiRNN\") as scope:\n",
    "    lstmCell1 = tf.nn.rnn_cell.LSTMCell(lstmUnits)\n",
    "    lstmCell1 = tf.nn.rnn_cell.DropoutWrapper(cell=lstmCell1, output_keep_prob=0.9)\n",
    "    lstmCell2 = tf.nn.rnn_cell.LSTMCell(lstmUnits)\n",
    "    lstmCell2 = tf.nn.rnn_cell.DropoutWrapper(cell=lstmCell2, output_keep_prob=0.9)\n",
    "    cell = tf.nn.rnn_cell.MultiRNNCell([lstmCell1, lstmCell2])\n",
    "    value, _ = tf.nn.dynamic_rnn(cell, data, dtype=tf.float32)"
   ]
  },
  {
   "cell_type": "code",
   "execution_count": 6,
   "metadata": {},
   "outputs": [],
   "source": [
    "with tf.name_scope(\"Prediction_Parameters\") as scope:\n",
    "    weight = tf.Variable(tf.truncated_normal([lstmUnits, numClasses]), name='Weights')\n",
    "    bias = tf.Variable(tf.constant(0.1, shape=[numClasses]), name='bias')\n",
    "    value = tf.transpose(value, [1, 0, 2])\n",
    "    last = tf.gather(value, int(value.get_shape()[0]) - 1)\n",
    "with tf.name_scope(\"Prediction\") as scope:\n",
    "    prediction = tf.nn.softmax(tf.matmul(last, weight) + bias)"
   ]
  },
  {
   "cell_type": "code",
   "execution_count": 7,
   "metadata": {},
   "outputs": [],
   "source": [
    "with tf.name_scope(\"Accuracy\") as scope:\n",
    "    correctPred = tf.equal(tf.argmax(prediction,1), tf.argmax(labels,1))\n",
    "    accuracy = tf.reduce_mean(tf.cast(correctPred, tf.float32))\n"
   ]
  },
  {
   "cell_type": "code",
   "execution_count": 8,
   "metadata": {},
   "outputs": [],
   "source": [
    "with tf.name_scope(\"Loss\") as scope:\n",
    "    loss = tf.reduce_mean(tf.nn.softmax_cross_entropy_with_logits_v2(logits=prediction, labels=labels))\n",
    "with tf.name_scope(\"Train\") as scope:\n",
    "    optimizer = tf.train.AdamOptimizer(learning_rate).minimize(loss)"
   ]
  },
  {
   "cell_type": "code",
   "execution_count": null,
   "metadata": {},
   "outputs": [],
   "source": [
    "import datetime\n",
    "sess = tf.InteractiveSession()\n",
    "tf.summary.scalar('Loss', loss)\n",
    "tf.summary.scalar('Accuracy', accuracy)\n",
    "merged = tf.summary.merge_all()\n",
    "validation = tf.summary.scalar('Validation', accuracy)\n",
    "logdir = \"tensorboard/\" + datetime.datetime.now().strftime(\"%Y%m%d-%H%M%S\") + \"/\"\n",
    "writer = tf.summary.FileWriter(logdir, sess.graph)"
   ]
  },
  {
   "cell_type": "code",
   "execution_count": 9,
   "metadata": {
    "scrolled": true
   },
   "outputs": [],
   "source": [
    "sess = tf.InteractiveSession()\n",
    "saver = tf.train.Saver()\n",
    "sess.run(tf.global_variables_initializer())\n"
   ]
  },
  {
   "cell_type": "markdown",
   "metadata": {},
   "source": [
    "# Training"
   ]
  },
  {
   "cell_type": "code",
   "execution_count": 10,
   "metadata": {},
   "outputs": [
    {
     "name": "stdout",
     "output_type": "stream",
     "text": [
      "Loss: 0.7169582\n",
      "Loss: 0.5871757\n",
      "Loss: 0.57802606\n",
      "Loss: 0.5395138\n",
      "Loss: 0.5586865\n",
      "Loss: 0.5777421\n",
      "Loss: 0.540998\n",
      "Loss: 0.5669285\n",
      "Loss: 0.5359461\n",
      "Loss: 0.53072286\n",
      "Loss: 0.54103416\n",
      "Loss: 0.5577469\n",
      "Loss: 0.52806693\n",
      "Loss: 0.5096108\n",
      "Loss: 0.50664335\n",
      "Loss: 0.53114235\n",
      "Loss: 0.5362724\n",
      "Loss: 0.52452034\n",
      "Loss: 0.5521227\n",
      "Loss: 0.53186285\n",
      "Loss: 0.5150936\n"
     ]
    },
    {
     "ename": "NameError",
     "evalue": "name 'writer' is not defined",
     "output_type": "error",
     "traceback": [
      "\u001b[1;31m---------------------------------------------------------------------------\u001b[0m",
      "\u001b[1;31mNameError\u001b[0m                                 Traceback (most recent call last)",
      "\u001b[1;32m<ipython-input-10-5b776ccbdeee>\u001b[0m in \u001b[0;36m<module>\u001b[1;34m()\u001b[0m\n\u001b[0;32m     13\u001b[0m         \u001b[0mprint\u001b[0m\u001b[1;33m(\u001b[0m\u001b[1;34m\"Loss: \"\u001b[0m \u001b[1;33m+\u001b[0m \u001b[0mstr\u001b[0m\u001b[1;33m(\u001b[0m\u001b[0msess\u001b[0m\u001b[1;33m.\u001b[0m\u001b[0mrun\u001b[0m\u001b[1;33m(\u001b[0m\u001b[0mloss\u001b[0m\u001b[1;33m,\u001b[0m \u001b[1;33m{\u001b[0m\u001b[0minput_data\u001b[0m\u001b[1;33m:\u001b[0m \u001b[0mnextBatch\u001b[0m\u001b[1;33m,\u001b[0m \u001b[0mlabels\u001b[0m\u001b[1;33m:\u001b[0m \u001b[0mnextBatchLabels\u001b[0m\u001b[1;33m}\u001b[0m\u001b[1;33m)\u001b[0m\u001b[1;33m)\u001b[0m\u001b[1;33m)\u001b[0m\u001b[1;33m\u001b[0m\u001b[0m\n\u001b[0;32m     14\u001b[0m \u001b[0msave_path\u001b[0m \u001b[1;33m=\u001b[0m \u001b[0msaver\u001b[0m\u001b[1;33m.\u001b[0m\u001b[0msave\u001b[0m\u001b[1;33m(\u001b[0m\u001b[0msess\u001b[0m\u001b[1;33m,\u001b[0m \u001b[1;34m\"RNN2/RNN2.ckpt\"\u001b[0m\u001b[1;33m,\u001b[0m \u001b[0mglobal_step\u001b[0m\u001b[1;33m=\u001b[0m\u001b[0mi\u001b[0m\u001b[1;33m)\u001b[0m\u001b[1;33m\u001b[0m\u001b[0m\n\u001b[1;32m---> 15\u001b[1;33m \u001b[0mwriter\u001b[0m\u001b[1;33m.\u001b[0m\u001b[0mclose\u001b[0m\u001b[1;33m(\u001b[0m\u001b[1;33m)\u001b[0m\u001b[1;33m\u001b[0m\u001b[0m\n\u001b[0m",
      "\u001b[1;31mNameError\u001b[0m: name 'writer' is not defined"
     ]
    }
   ],
   "source": [
    "for i in range(iterations+1):\n",
    "        #Next Batch of reviews\n",
    "    nextBatch, nextBatchLabels = getTrainBatch();\n",
    "    sess.run(optimizer, {input_data: nextBatch, labels: nextBatchLabels})\n",
    "    #Write summary to Tensorboard\n",
    "#    if (i % 5 == 0):\n",
    "#        summary = sess.run(merged, {input_data: nextBatch, labels: nextBatchLabels})\n",
    "#        writer.add_summary(summary, i)\n",
    "#        nextTestBatch, nextTestBatchLabels = getTestBatch();\n",
    "#        val = sess.run(validation, {input_data: nextTestBatch, labels: nextTestBatchLabels})\n",
    "#        writer.add_summary(val, i)\n",
    "    if (i%500 == 0):\n",
    "        print(\"Loss: \" + str(sess.run(loss, {input_data: nextBatch, labels: nextBatchLabels})))\n",
    "save_path = saver.save(sess, \"RNN2/RNN2.ckpt\", global_step=i)\n",
    "writer.close()"
   ]
  },
  {
   "cell_type": "code",
   "execution_count": 12,
   "metadata": {},
   "outputs": [],
   "source": [
    "import re\n",
    "strip_special_chars = re.compile(\"[^A-Za-z0-9 ]+\")\n",
    "\n",
    "def cleanSentences(string):\n",
    "    string = string.lower().replace(\"<br />\", \" \")\n",
    "    return re.sub(strip_special_chars, \"\", string.lower())\n",
    "\n",
    "def getSentenceMatrix(sentence):\n",
    "    arr = np.zeros([batchSize, maxSeqLength])\n",
    "    sentenceMatrix = np.zeros([batchSize,maxSeqLength], dtype='int32')\n",
    "    cleanedSentence = cleanSentences(sentence)\n",
    "    split = cleanedSentence.split()\n",
    "    for indexCounter,word in enumerate(split):\n",
    "        try:\n",
    "            sentenceMatrix[0,indexCounter] = wordsList.index(word)\n",
    "        except ValueError:\n",
    "            sentenceMatrix[0,indexCounter] = 399999 #Vector for unkown words\n",
    "    return sentenceMatrix\n",
    "def test(sent):\n",
    "    x = ['negetive', 'positive']\n",
    "    sent = getSentenceMatrix(sent)\n",
    "    pred = sess.run(prediction, {input_data:sent})[0]\n",
    "    return(pred)\n",
    "def results():\n",
    "    arr = np.array([[1, 0]], dtype=np.float32)\n",
    "    arr_pred = np.array([test(\"my life sucks\")])\n",
    "    for i in range(512, ids.shape[0], 512):\n",
    "        arr = np.vstack((arr, the_labels[i-512:i]))\n",
    "        arr_pred = np.vstack((arr_pred, sess.run(prediction, {input_data:ids[i-512:i]})))\n",
    "    x = np.argmax(arr_pred, axis=1)\n",
    "    y = np.argmax(arr, axis=1)\n",
    "    return((np.sum(np.equal(x, y))/x.shape))"
   ]
  },
  {
   "cell_type": "code",
   "execution_count": 13,
   "metadata": {},
   "outputs": [
    {
     "data": {
      "text/plain": [
       "array([0.7748625])"
      ]
     },
     "execution_count": 13,
     "metadata": {},
     "output_type": "execute_result"
    }
   ],
   "source": [
    "results()"
   ]
  },
  {
   "cell_type": "code",
   "execution_count": 14,
   "metadata": {},
   "outputs": [
    {
     "name": "stdout",
     "output_type": "stream",
     "text": [
      "0.24717836380004882\n"
     ]
    }
   ],
   "source": [
    "def find_time():\n",
    "    import time\n",
    "    cx = np.random.randint(513, ids.shape[0])\n",
    "    start_time = time.time()\n",
    "    sess.run(prediction, {input_data:ids[cx-512:cx]})\n",
    "#    print(\"---| %s seconds ---\" % (time.time() - start_time))\n",
    "    return(time.time() - start_time)\n",
    "find_time()\n",
    "def find():\n",
    "    temp = 0\n",
    "    for i in range(10):\n",
    "        temp+=find_time()\n",
    "    print(temp/10)\n",
    "find()"
   ]
  },
  {
   "cell_type": "code",
   "execution_count": null,
   "metadata": {},
   "outputs": [],
   "source": []
  }
 ],
 "metadata": {
  "anaconda-cloud": {},
  "kernelspec": {
   "display_name": "Python 3",
   "language": "python",
   "name": "python3"
  },
  "language_info": {
   "codemirror_mode": {
    "name": "ipython",
    "version": 3
   },
   "file_extension": ".py",
   "mimetype": "text/x-python",
   "name": "python",
   "nbconvert_exporter": "python",
   "pygments_lexer": "ipython3",
   "version": "3.6.5"
  }
 },
 "nbformat": 4,
 "nbformat_minor": 1
}
